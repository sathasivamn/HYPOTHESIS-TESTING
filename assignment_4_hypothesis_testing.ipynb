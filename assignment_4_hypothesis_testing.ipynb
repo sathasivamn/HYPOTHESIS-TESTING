{
  "nbformat": 4,
  "nbformat_minor": 0,
  "metadata": {
    "colab": {
      "provenance": [],
      "authorship_tag": "ABX9TyNJgY4lAmTQL4y48jRGgl0P",
      "include_colab_link": true
    },
    "kernelspec": {
      "name": "python3",
      "display_name": "Python 3"
    },
    "language_info": {
      "name": "python"
    }
  },
  "cells": [
    {
      "cell_type": "markdown",
      "metadata": {
        "id": "view-in-github",
        "colab_type": "text"
      },
      "source": [
        "<a href=\"https://colab.research.google.com/github/sathasivamn/HYPOTHESIS-TESTING/blob/main/assignment_4_hypothesis_testing.ipynb\" target=\"_parent\"><img src=\"https://colab.research.google.com/assets/colab-badge.svg\" alt=\"Open In Colab\"/></a>"
      ]
    },
    {
      "cell_type": "markdown",
      "source": [
        "# Hypothesis Testing for Weekly Operating Costs"
      ],
      "metadata": {
        "id": "DhXvhHQyh9X1"
      }
    },
    {
      "cell_type": "markdown",
      "source": [
        "# 1: State the Hypotheses\n",
        "\n",
        "## Null Hypothesis (H₀)\n",
        "#### The weekly operating cost follows the theoretical model.\n",
        "\n",
        "##### Mathematically:H0:μ=4,000\n",
        "\n",
        "##### Interpretation:\n",
        "###### The actual mean weekly cost matches the expected model cost, meaning no significant difference exists.\n",
        "\n",
        "## Alternative Hypothesis (H₁)\n",
        "#### The weekly operating cost is higher than the theoretical model.\n",
        "\n",
        "##### Mathematically: H1:μ>4,000\n",
        "##### Interpretation:\n",
        "###### The actual mean weekly cost is greater than the expected cost. This suggests the company might be spending more than projected.\n",
        "\n",
        "## Breakdown of Theoretical Cost Calculation\n",
        "#### Model Cost Formula:\n",
        "##### Total Cost =Fixed Cost + (Variable Cost x Units Produced)\n",
        "\n",
        "## Type of Hypothesis Test\n",
        "#### Right-tailed test\n",
        "##### Since we are checking if the actual cost is greater than the model cost, it's a one-tailed (right-tailed) test."
      ],
      "metadata": {
        "id": "lNGeFEnNiEDh"
      }
    },
    {
      "cell_type": "code",
      "execution_count": null,
      "metadata": {
        "id": "mFnHgWsahuOO"
      },
      "outputs": [],
      "source": [
        "## Null Hypothesis (H₀): The weekly operating cost follows the theoretical model. (Mean cost = Model cost)\n",
        "## Alternative Hypothesis (H₁): The weekly operating cost is higher than the theoretical model. (Mean cost > Model cost)\n",
        "\n",
        "## Mathematically:\n",
        "### H₀: μ = $1,000 + $5(600) = $4,000\n",
        "### H₁: μ > $4,000 (Right-tailed test)"
      ]
    },
    {
      "cell_type": "markdown",
      "source": [
        "# 2: Calculate the Test Statistic (t-value)\n",
        "#### We use the formula: t=ˉx-μ/s/√n\n",
        "\n",
        "#### This code calculates the t-score to determine if the sample mean significantly differs from the theoretical mean. This is useful in hypothesis testing for decision-making in business and finance.\n"
      ],
      "metadata": {
        "id": "13cpBdDZlHco"
      }
    },
    {
      "cell_type": "code",
      "source": [
        "## Import libraries\n",
        "import scipy.stats as stats\n",
        "import numpy as np\n",
        "\n",
        "# Given data\n",
        "sample_mean = 3050  # Rs.\n",
        "model_mean = 1000 + 5 * 600 # Theoretical mean cost\n",
        "sigma = 5 * 25  # Standard deviation of cost\n",
        "n = 25  # Sample size\n",
        "\n",
        "# Calculate test statistic (t-score)\n",
        "t_statistic = (sample_mean - model_mean) / (sigma / np.sqrt(n))\n",
        "\n",
        "# Print the test statistic\n",
        "print(f\"Test Statistic (t-value): {t_statistic:.4f}\")"
      ],
      "metadata": {
        "colab": {
          "base_uri": "https://localhost:8080/"
        },
        "id": "CTj9adjbiHQ7",
        "outputId": "16bd2027-f6aa-4d08-feb5-30da62aa1a11"
      },
      "execution_count": null,
      "outputs": [
        {
          "output_type": "stream",
          "name": "stdout",
          "text": [
            "Test Statistic (t-value): -38.0000\n"
          ]
        }
      ]
    },
    {
      "cell_type": "markdown",
      "source": [
        "#  3. Determine the Critical Value\n",
        "### For a one-tailed test at α = 0.05, we find the critical value using the standard normal table.\n",
        "\n",
        "#### This code calculates the critical Z-score for a one-tailed hypothesis test at a 5% significance level. If a test statistic exceeds this value, we reject the null hypothesis."
      ],
      "metadata": {
        "id": "KMBuY60bm8SC"
      }
    },
    {
      "cell_type": "code",
      "source": [
        "# Significance level\n",
        "alpha = 0.05\n",
        "\n",
        "# Critical value for one-tailed test at 5% significance level\n",
        "critical_value = stats.norm.ppf(1 - alpha)\n",
        "\n",
        "print(f\"Critical Value (Z at α = 0.05): {critical_value:.4f}\")"
      ],
      "metadata": {
        "colab": {
          "base_uri": "https://localhost:8080/"
        },
        "id": "twIjTzC8mUI7",
        "outputId": "7929aab8-acdd-44c7-9004-9f1803164170"
      },
      "execution_count": null,
      "outputs": [
        {
          "output_type": "stream",
          "name": "stdout",
          "text": [
            "Critical Value (Z at α = 0.05): 1.6449\n"
          ]
        }
      ]
    },
    {
      "cell_type": "markdown",
      "source": [
        "# 4. Make a Decision\n",
        "### If t-statistic > critical value, reject H₀.\n",
        "### Otherwise, fail to reject H₀.\n",
        "\n",
        "\n",
        "#### This code implements the decision rule for hypothesis testing. It determines whether there is enough statistical evidence to support the restaurant owners' claim about an increase in operating costs. If the t-statistic is greater than the critical value, we reject H₀ and conclude that the cost has increased significantly. Otherwise, we fail to reject H₀, meaning the cost model is still valid."
      ],
      "metadata": {
        "id": "APSGPo6xnvWZ"
      }
    },
    {
      "cell_type": "code",
      "source": [
        "# Decision Rule\n",
        "if t_statistic > critical_value:\n",
        "    print(\"Reject the Null Hypothesis (H₀). The restaurant owners' claim is supported.\")\n",
        "else:\n",
        "    print(\"Fail to Reject the Null Hypothesis (H₀). The cost model is still valid.\")"
      ],
      "metadata": {
        "colab": {
          "base_uri": "https://localhost:8080/"
        },
        "id": "ckUxC9JEnOZ7",
        "outputId": "a1f73d69-5f26-4c84-eddf-73a308c63645"
      },
      "execution_count": null,
      "outputs": [
        {
          "output_type": "stream",
          "name": "stdout",
          "text": [
            "Fail to Reject the Null Hypothesis (H₀). The cost model is still valid.\n"
          ]
        }
      ]
    },
    {
      "cell_type": "markdown",
      "source": [
        "# 5: Conclusion\n",
        "## If we reject H₀: There is statistical evidence that weekly operating costs are higher than predicted.\n",
        "## If we fail to reject H₀: There is no significant evidence that operating costs have increased."
      ],
      "metadata": {
        "id": "g6wxxSkYoVuR"
      }
    },
    {
      "cell_type": "code",
      "source": [],
      "metadata": {
        "id": "CM_weKALn4T5"
      },
      "execution_count": null,
      "outputs": []
    }
  ]
}