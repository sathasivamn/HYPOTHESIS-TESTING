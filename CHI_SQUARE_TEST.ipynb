{
  "nbformat": 4,
  "nbformat_minor": 0,
  "metadata": {
    "colab": {
      "provenance": [],
      "authorship_tag": "ABX9TyNqMR2C5EPk3syqfKWh/qqu",
      "include_colab_link": true
    },
    "kernelspec": {
      "name": "python3",
      "display_name": "Python 3"
    },
    "language_info": {
      "name": "python"
    }
  },
  "cells": [
    {
      "cell_type": "markdown",
      "metadata": {
        "id": "view-in-github",
        "colab_type": "text"
      },
      "source": [
        "<a href=\"https://colab.research.google.com/github/sathasivamn/HYPOTHESIS-TESTING/blob/main/CHI_SQUARE_TEST.ipynb\" target=\"_parent\"><img src=\"https://colab.research.google.com/assets/colab-badge.svg\" alt=\"Open In Colab\"/></a>"
      ]
    },
    {
      "cell_type": "markdown",
      "source": [
        "# Chi-Square Test for Independence"
      ],
      "metadata": {
        "id": "CMuKpRcjcJPU"
      }
    },
    {
      "cell_type": "markdown",
      "source": [
        "# 1: State the Hypotheses"
      ],
      "metadata": {
        "id": "9pmqgE0ZcvSL"
      }
    },
    {
      "cell_type": "code",
      "execution_count": 2,
      "metadata": {
        "id": "xX06Gr9Abi87"
      },
      "outputs": [],
      "source": [
        "# Null Hypothesis (H₀): There is no association between the type of smart home device purchased and customer satisfaction.\n",
        "# Alternative Hypothesis (H₁): There is a significant association between the type of smart home device purchased and customer satisfaction."
      ]
    },
    {
      "cell_type": "markdown",
      "source": [
        "# 2: Compute the Chi-Square Statistic\n",
        "\n",
        "## Import Required Libraries:\n",
        "#### numpy for numerical operations.\n",
        "### scipy.stats for statistical functions like Chi-Square tests.\n",
        "\n",
        "## Create Observed Frequency Table:\n",
        "#### Stores observed counts for each category in a NumPy array.\n",
        "\n",
        "## Perform the Chi-Square Test:\n",
        "### stats.chi2_contingency() calculates:\n",
        "#### Chi-Square statistic (chi2_stat)\n",
        "#### P-value (p_value)\n",
        "#### Degrees of Freedom (dof)\n",
        "#### Expected frequencies (expected)\n",
        "\n",
        "## Print the Results:\n",
        "#### Displays test results in a readable format."
      ],
      "metadata": {
        "id": "8YHOGGs5cxXy"
      }
    },
    {
      "cell_type": "code",
      "source": [
        "# Import libraries\n",
        "import numpy as np\n",
        "import scipy.stats as stats\n",
        "\n",
        "# Creating the observed frequency table (contingency table)\n",
        "observed = np.array([\n",
        "    [50, 70],  # Very Satisfied\n",
        "    [80, 100], # Satisfied\n",
        "    [60, 90],  # Neutral\n",
        "    [30, 50],  # Unsatisfied\n",
        "    [20, 50]   # Very Unsatisfied\n",
        "])\n",
        "\n",
        "# Perform the Chi-Square Test\n",
        "chi2_stat, p_value, dof, expected = stats.chi2_contingency(observed)\n",
        "\n",
        "# Print results\n",
        "print(f\"Chi-Square Statistic: {chi2_stat:.4f}\")\n",
        "print(f\"Degrees of Freedom: {dof}\")\n",
        "print(f\"P-value: {p_value:.4f}\")\n",
        "print(\"\\nExpected Frequencies Table:\")\n",
        "print(expected)"
      ],
      "metadata": {
        "colab": {
          "base_uri": "https://localhost:8080/"
        },
        "id": "nhJXy2sOcSBM",
        "outputId": "b2b66695-bd19-4c0f-e705-4b84c0b1c318"
      },
      "execution_count": 3,
      "outputs": [
        {
          "output_type": "stream",
          "name": "stdout",
          "text": [
            "Chi-Square Statistic: 5.6382\n",
            "Degrees of Freedom: 4\n",
            "P-value: 0.2278\n",
            "\n",
            "Expected Frequencies Table:\n",
            "[[ 48.  72.]\n",
            " [ 72. 108.]\n",
            " [ 60.  90.]\n",
            " [ 32.  48.]\n",
            " [ 28.  42.]]\n"
          ]
        }
      ]
    },
    {
      "cell_type": "markdown",
      "source": [
        "# 3: Determine the Critical Value\n",
        "\n",
        "## Set the Significance Level (α = 0.05)\n",
        "#### Defines the probability threshold for rejecting the null hypothesis.\n",
        "\n",
        "## Calculate the Chi-Square Critical Value\n",
        "#### Uses the percent-point function (PPF) to find the threshold above which the null hypothesis is rejected.\n",
        "\n",
        "## Print the Critical Value\n",
        "#### Displays the result in a user-friendly format."
      ],
      "metadata": {
        "id": "k4H55hQpeYy9"
      }
    },
    {
      "cell_type": "code",
      "source": [
        "# Significance level (alpha)\n",
        "alpha = 0.05\n",
        "\n",
        "# Find the critical value for chi-square distribution\n",
        "critical_value = stats.chi2.ppf(1 - alpha, dof)\n",
        "\n",
        "print(f\"Chi-Square Critical Value (at α = 0.05): {critical_value:.4f}\")"
      ],
      "metadata": {
        "colab": {
          "base_uri": "https://localhost:8080/"
        },
        "id": "wPMs6mZveG0M",
        "outputId": "3b8a04d3-2b62-4819-8d7b-aacf3d9f8ccc"
      },
      "execution_count": 4,
      "outputs": [
        {
          "output_type": "stream",
          "name": "stdout",
          "text": [
            "Chi-Square Critical Value (at α = 0.05): 9.4877\n"
          ]
        }
      ]
    },
    {
      "cell_type": "markdown",
      "source": [
        "# 4: Make a Decision\n",
        "\n",
        "#### Comment: Describes the purpose of the code.\n",
        "#### If Condition: Compares the Chi-Square statistic with the critical value.\n",
        "#### Print Statement (Reject H₀): Displays the decision when we reject the null hypothesis.\n",
        "#### Else Statement (Fail to Reject H₀): Displays the decision when we do not reject the null hypothesis."
      ],
      "metadata": {
        "id": "-0up_fm8fPam"
      }
    },
    {
      "cell_type": "code",
      "source": [
        "# Decision Rule\n",
        "if chi2_stat > critical_value:\n",
        "    print(\"Reject the Null Hypothesis (H₀). There is a significant association between device type and customer satisfaction.\")\n",
        "else:\n",
        "    print(\"Fail to Reject the Null Hypothesis (H₀). No significant association between device type and customer satisfaction.\")"
      ],
      "metadata": {
        "colab": {
          "base_uri": "https://localhost:8080/"
        },
        "id": "8XwzTlw0fApE",
        "outputId": "d56a8bfc-64de-477b-9e35-b9793d60917e"
      },
      "execution_count": 5,
      "outputs": [
        {
          "output_type": "stream",
          "name": "stdout",
          "text": [
            "Fail to Reject the Null Hypothesis (H₀). No significant association between device type and customer satisfaction.\n"
          ]
        }
      ]
    },
    {
      "cell_type": "code",
      "source": [],
      "metadata": {
        "id": "fbON6Pepf61r"
      },
      "execution_count": null,
      "outputs": []
    }
  ]
}